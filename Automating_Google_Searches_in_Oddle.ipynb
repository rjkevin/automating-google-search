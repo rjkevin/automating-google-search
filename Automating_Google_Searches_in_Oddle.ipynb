{
  "nbformat": 4,
  "nbformat_minor": 0,
  "metadata": {
    "colab": {
      "name": "Automating Google Searches in Oddle ",
      "provenance": [],
      "collapsed_sections": [],
      "authorship_tag": "ABX9TyPW/2bdcNgR9/MUYynkYuXE",
      "include_colab_link": true
    },
    "kernelspec": {
      "name": "python3",
      "display_name": "Python 3"
    },
    "language_info": {
      "name": "python"
    }
  },
  "cells": [
    {
      "cell_type": "markdown",
      "metadata": {
        "id": "view-in-github",
        "colab_type": "text"
      },
      "source": [
        "<a href=\"https://colab.research.google.com/github/rjkevin/geocoding/blob/main/Automating_Google_Searches_in_Oddle.ipynb\" target=\"_parent\"><img src=\"https://colab.research.google.com/assets/colab-badge.svg\" alt=\"Open In Colab\"/></a>"
      ]
    },
    {
      "cell_type": "markdown",
      "metadata": {
        "id": "m8NITe8a2bZD"
      },
      "source": [
        "# Automating  google search queries from a user input"
      ]
    },
    {
      "cell_type": "markdown",
      "metadata": {
        "id": "M99t-9YnxkVH"
      },
      "source": [
        "**Step 1**: Import googlesearch library  <br>\n",
        "**Step 2**: Specify query or list of queries <br>\n",
        "**Step 3**: Input a search topic using the input ( ) function <br>\n",
        "**Step 4**: Iterate the queries and searches using for loop <br>"
      ]
    },
    {
      "cell_type": "code",
      "metadata": {
        "id": "AQnWVkvZcE4g",
        "colab": {
          "base_uri": "https://localhost:8080/"
        },
        "outputId": "d94ff4eb-f3b3-425d-f12d-44441b785057"
      },
      "source": [
        "from googlesearch import search #importing search module from google search library\n",
        "\n",
        "query =[' delivery & takeaway',' Facebook',' Instagram']\n",
        "restaurant_name = input('Enter restaurant name: ')\n",
        "for x in query: # nested for loops\n",
        "  for i in search(restaurant_name+'malaysia'+ x,tld='com', lang='en', num=1, \n",
        "   start=0, stop=1, pause=2.0):\n",
        "    print(i) "
      ],
      "execution_count": null,
      "outputs": [
        {
          "output_type": "stream",
          "text": [
            "Enter restaurant name: Nasi Lemak Saleha\n",
            "https://www.nasilemaksaleha.com/en_MY/\n",
            "https://www.facebook.com/NasiLemakSaleha/\n",
            "https://www.instagram.com/nasilemaksaleha/?hl=en\n"
          ],
          "name": "stdout"
        }
      ]
    },
    {
      "cell_type": "markdown",
      "metadata": {
        "id": "qF9mjSYasx9n"
      },
      "source": [
        "How to search for images / news/ books etc \n",
        "\n",
        "Change respective tpe parameter to \n",
        "*   image = isch\n",
        "*   news = nws\n",
        "*  video = vde\n",
        "\n"
      ]
    },
    {
      "cell_type": "code",
      "metadata": {
        "colab": {
          "base_uri": "https://localhost:8080/"
        },
        "id": "U1RY6ExtteRI",
        "outputId": "1987a2a9-54df-4852-e9be-af5843f81b69"
      },
      "source": [
        "from googlesearch import search\n",
        "\n",
        "user_query = input(print('Enter search: '))\n",
        "for x in search(user_query,tld='com',tpe='nws',lang='en',start=0,stop=3,num=3,pause=2.0):\n",
        "  print(x)"
      ],
      "execution_count": null,
      "outputs": [
        {
          "output_type": "stream",
          "text": [
            "Enter search: \n",
            "Nasi lemak saleha \n",
            "https://www.theedgemarkets.com/article/ecommerce-drives-humanitarian-aid-benderaputih-movement\n",
            "https://www.lifestyleasia.com/kl/food-drink/dining/nasi-lemak-delivery-services-2021/\n",
            "https://www.utusan.com.my/ekonomi/2021/04/dari-tepi-jalan-nasi-lemak-saleha-kini-miliki-dua-restoran/\n"
          ],
          "name": "stdout"
        }
      ]
    },
    {
      "cell_type": "markdown",
      "metadata": {
        "id": "cFZJ3jd61VnJ"
      },
      "source": [
        "# Automating google search queries from a list"
      ]
    },
    {
      "cell_type": "code",
      "metadata": {
        "colab": {
          "base_uri": "https://localhost:8080/",
          "height": 173
        },
        "id": "0xanoupJNUBA",
        "outputId": "265f521a-a0c1-48ce-f91d-52d277165414"
      },
      "source": [
        "from googlesearch import search\n",
        "restaurant_list = ['Nasi Lemak Saleha','Cor Blimey','Pizzaroma','Le Meridien KL']\n",
        "\n",
        "query = 'Facebook'\n",
        "\n",
        "facebook=[]\n",
        "for restaurant in restaurant_list:\n",
        "  for i in search(restaurant + 'Malaysia'+ query,lang='en',tld='com',start=0,stop=1,num=1,pause=2.0):\n",
        "    facebook.append(i)\n",
        "    \n",
        "query = 'Instagram'\n",
        "\n",
        "instagram = []\n",
        "for restaurant in restaurant_list:\n",
        "  for i in search(restaurant + 'Malaysia'+ query,lang='en',tld='com',start=0,stop=1,num=1,pause=2.0):\n",
        "    instagram.append(i)\n",
        "\n",
        "\n",
        "query = 'delivery & takeaway'\n",
        "\n",
        "delivery =[]\n",
        "for restaurant in restaurant_list:\n",
        "  for i in search(restaurant + 'Malaysia'+ query,lang='en',tld='com',start=0,stop=1,num=1,pause=2.0):\n",
        "    delivery.append(i)    \n",
        "\n",
        "\n",
        "import pandas as pd\n",
        "\n",
        "df =pd.DataFrame(list(zip(restaurant_list,facebook,instagram,delivery)), columns=['merchants','facebook','instagram','delivery & takeaway'])\n",
        "\n",
        "df\n",
        "\n"
      ],
      "execution_count": null,
      "outputs": [
        {
          "output_type": "execute_result",
          "data": {
            "text/html": [
              "<div>\n",
              "<style scoped>\n",
              "    .dataframe tbody tr th:only-of-type {\n",
              "        vertical-align: middle;\n",
              "    }\n",
              "\n",
              "    .dataframe tbody tr th {\n",
              "        vertical-align: top;\n",
              "    }\n",
              "\n",
              "    .dataframe thead th {\n",
              "        text-align: right;\n",
              "    }\n",
              "</style>\n",
              "<table border=\"1\" class=\"dataframe\">\n",
              "  <thead>\n",
              "    <tr style=\"text-align: right;\">\n",
              "      <th></th>\n",
              "      <th>merchants</th>\n",
              "      <th>facebook</th>\n",
              "      <th>instagram</th>\n",
              "      <th>delivery &amp; takeaway</th>\n",
              "    </tr>\n",
              "  </thead>\n",
              "  <tbody>\n",
              "    <tr>\n",
              "      <th>0</th>\n",
              "      <td>Nasi Lemak Saleha</td>\n",
              "      <td>https://www.facebook.com/NasiLemakSaleha/</td>\n",
              "      <td>https://www.instagram.com/nasilemaksaleha/?hl=en</td>\n",
              "      <td>https://www.nasilemaksaleha.com/en_MY/</td>\n",
              "    </tr>\n",
              "    <tr>\n",
              "      <th>1</th>\n",
              "      <td>Cor Blimey</td>\n",
              "      <td>https://www.facebook.com/corblimeyDU/</td>\n",
              "      <td>https://www.instagram.com/corblimey_britishfis...</td>\n",
              "      <td>http://www.corblimeymy.com/</td>\n",
              "    </tr>\n",
              "    <tr>\n",
              "      <th>2</th>\n",
              "      <td>Pizzaroma</td>\n",
              "      <td>https://www.facebook.com/pizzaromamy/</td>\n",
              "      <td>https://www.instagram.com/pizzaromamalaysia/?h...</td>\n",
              "      <td>https://www.pizzaroma.my/</td>\n",
              "    </tr>\n",
              "    <tr>\n",
              "      <th>3</th>\n",
              "      <td>Le Meridien KL</td>\n",
              "      <td>https://www.facebook.com/lemeridienkualalumpur/</td>\n",
              "      <td>https://www.instagram.com/lemeridienkl/?hl=en</td>\n",
              "      <td>https://le-meridien.marriott.com/</td>\n",
              "    </tr>\n",
              "  </tbody>\n",
              "</table>\n",
              "</div>"
            ],
            "text/plain": [
              "           merchants  ...                     delivery & takeaway\n",
              "0  Nasi Lemak Saleha  ...  https://www.nasilemaksaleha.com/en_MY/\n",
              "1         Cor Blimey  ...             http://www.corblimeymy.com/\n",
              "2          Pizzaroma  ...               https://www.pizzaroma.my/\n",
              "3     Le Meridien KL  ...       https://le-meridien.marriott.com/\n",
              "\n",
              "[4 rows x 4 columns]"
            ]
          },
          "metadata": {
            "tags": []
          },
          "execution_count": 162
        }
      ]
    },
    {
      "cell_type": "markdown",
      "metadata": {
        "id": "ChiLb2HYczU1"
      },
      "source": [
        "# Automate google search queries from a csv file"
      ]
    },
    {
      "cell_type": "code",
      "metadata": {
        "colab": {
          "base_uri": "https://localhost:8080/",
          "height": 173
        },
        "id": "9G7H_BLNcy8D",
        "outputId": "17d73afa-2bfc-48dc-dbcc-ea01aac76b95"
      },
      "source": [
        "import pandas as pd\n",
        "data = pd.read_csv('/content/test test - Sheet1.csv')\n",
        "\n",
        "\n",
        "\n",
        "from googlesearch import search\n",
        "restaurant_list = data['merchants']\n",
        "\n",
        "query = 'Facebook'\n",
        "\n",
        "facebook=[]\n",
        "for restaurant in restaurant_list:\n",
        "  for i in search(restaurant + 'Malaysia'+ query,lang='en',tld='com',start=0,stop=1,num=1,pause=2.0):\n",
        "    facebook.append(i)\n",
        "    \n",
        "query = 'Instagram'\n",
        "\n",
        "instagram = []\n",
        "for restaurant in restaurant_list:\n",
        "  for i in search(restaurant + 'Malaysia'+ query,lang='en',tld='com',start=0,stop=1,num=1,pause=2.0):\n",
        "    instagram.append(i)\n",
        "\n",
        "\n",
        "query = 'delivery & takeaway'\n",
        "\n",
        "delivery =[]\n",
        "for restaurant in restaurant_list:\n",
        "  for i in search(restaurant + 'Malaysia'+ query,lang='en',tld='com',start=0,stop=1,num=1,pause=2.0):\n",
        "    delivery.append(i)    \n",
        "\n",
        "\n",
        "df =pd.DataFrame(list(zip(restaurant_list,facebook,instagram,delivery)), columns=['merchants','facebook','instagram','delivery & takeaway'])\n",
        "\n",
        "df"
      ],
      "execution_count": null,
      "outputs": [
        {
          "output_type": "execute_result",
          "data": {
            "text/html": [
              "<div>\n",
              "<style scoped>\n",
              "    .dataframe tbody tr th:only-of-type {\n",
              "        vertical-align: middle;\n",
              "    }\n",
              "\n",
              "    .dataframe tbody tr th {\n",
              "        vertical-align: top;\n",
              "    }\n",
              "\n",
              "    .dataframe thead th {\n",
              "        text-align: right;\n",
              "    }\n",
              "</style>\n",
              "<table border=\"1\" class=\"dataframe\">\n",
              "  <thead>\n",
              "    <tr style=\"text-align: right;\">\n",
              "      <th></th>\n",
              "      <th>merchants</th>\n",
              "      <th>facebook</th>\n",
              "      <th>instagram</th>\n",
              "      <th>delivery &amp; takeaway</th>\n",
              "    </tr>\n",
              "  </thead>\n",
              "  <tbody>\n",
              "    <tr>\n",
              "      <th>0</th>\n",
              "      <td>nasi lemak saleha</td>\n",
              "      <td>https://www.facebook.com/pages/category/Malays...</td>\n",
              "      <td>https://www.instagram.com/nasilemaksaleha/?hl=en</td>\n",
              "      <td>https://www.nasilemaksaleha.com/en_MY/</td>\n",
              "    </tr>\n",
              "    <tr>\n",
              "      <th>1</th>\n",
              "      <td>cor blimey</td>\n",
              "      <td>https://www.facebook.com/corblimeyDU/</td>\n",
              "      <td>https://www.instagram.com/corblimey_britishfis...</td>\n",
              "      <td>http://www.corblimeymy.com/</td>\n",
              "    </tr>\n",
              "    <tr>\n",
              "      <th>2</th>\n",
              "      <td>pizzaroma</td>\n",
              "      <td>https://www.facebook.com/pizzaromamy/</td>\n",
              "      <td>https://www.instagram.com/pizzaromamalaysia/?h...</td>\n",
              "      <td>https://www.pizzaroma.my/</td>\n",
              "    </tr>\n",
              "    <tr>\n",
              "      <th>3</th>\n",
              "      <td>le meridien</td>\n",
              "      <td>https://www.facebook.com/lemeridienkualalumpur/</td>\n",
              "      <td>https://www.instagram.com/lemeridienkl/?hl=en</td>\n",
              "      <td>https://lemeridien.oddle.me/</td>\n",
              "    </tr>\n",
              "  </tbody>\n",
              "</table>\n",
              "</div>"
            ],
            "text/plain": [
              "           merchants  ...                     delivery & takeaway\n",
              "0  nasi lemak saleha  ...  https://www.nasilemaksaleha.com/en_MY/\n",
              "1         cor blimey  ...             http://www.corblimeymy.com/\n",
              "2          pizzaroma  ...               https://www.pizzaroma.my/\n",
              "3        le meridien  ...            https://lemeridien.oddle.me/\n",
              "\n",
              "[4 rows x 4 columns]"
            ]
          },
          "metadata": {
            "tags": []
          },
          "execution_count": 177
        }
      ]
    },
    {
      "cell_type": "code",
      "metadata": {
        "id": "L7605sdiWJ5U"
      },
      "source": [
        "df.to_csv('merchants_research.csv')"
      ],
      "execution_count": null,
      "outputs": []
    }
  ]
}